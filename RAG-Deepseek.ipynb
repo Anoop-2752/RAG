{
  "nbformat": 4,
  "nbformat_minor": 0,
  "metadata": {
    "colab": {
      "provenance": [],
      "gpuType": "T4"
    },
    "kernelspec": {
      "name": "python3",
      "display_name": "Python 3"
    },
    "language_info": {
      "name": "python"
    },
    "accelerator": "GPU"
  },
  "cells": [
    {
      "cell_type": "code",
      "execution_count": null,
      "metadata": {
        "id": "MiFqOYhosuUG"
      },
      "outputs": [],
      "source": [
        "!pip install pdfplumber langchain langchain_community langchain_core langchain_experimental faiss-cpu"
      ]
    },
    {
      "cell_type": "code",
      "source": [
        "from langchain_community.document_loaders import PDFPlumberLoader\n",
        "from langchain_experimental.text_splitter import SemanticChunker\n",
        "from langchain_community.embeddings import HuggingFaceEmbeddings\n",
        "from langchain_community.vectorstores import FAISS\n",
        "from langchain.prompts import PromptTemplate\n",
        "from langchain.chains.llm import LLMChain\n",
        "from langchain.chains.combine_documents.stuff import StuffDocumentsChain\n",
        "from langchain.chains import RetrievalQA"
      ],
      "metadata": {
        "id": "TFrwecN-tYQb"
      },
      "execution_count": 40,
      "outputs": []
    },
    {
      "cell_type": "code",
      "source": [
        "loader = PDFPlumberLoader(\"/content/Think python.pdf\")\n",
        "docs = loader.load()"
      ],
      "metadata": {
        "id": "PgSVMjvOvXyQ"
      },
      "execution_count": 41,
      "outputs": []
    },
    {
      "cell_type": "code",
      "source": [
        "text_splitter = SemanticChunker(HuggingFaceEmbeddings())\n",
        "documents = text_splitter.split_documents(docs)"
      ],
      "metadata": {
        "colab": {
          "base_uri": "https://localhost:8080/"
        },
        "id": "K-4JJb4nwFwZ",
        "outputId": "4ede0fcd-33ad-4d45-f42e-b7b743be6b8e"
      },
      "execution_count": 59,
      "outputs": [
        {
          "output_type": "stream",
          "name": "stderr",
          "text": [
            "<ipython-input-59-b819d188c7c3>:1: LangChainDeprecationWarning: Default values for HuggingFaceEmbeddings.model_name were deprecated in LangChain 0.2.16 and will be removed in 0.4.0. Explicitly pass a model_name to the HuggingFaceEmbeddings constructor instead.\n",
            "  text_splitter = SemanticChunker(HuggingFaceEmbeddings())\n"
          ]
        }
      ]
    },
    {
      "cell_type": "code",
      "source": [
        "embedder = HuggingFaceEmbeddings()"
      ],
      "metadata": {
        "colab": {
          "base_uri": "https://localhost:8080/"
        },
        "id": "raDBB94FwJ11",
        "outputId": "1cde4730-b954-4cb8-dcee-e4770d41a795"
      },
      "execution_count": 44,
      "outputs": [
        {
          "output_type": "stream",
          "name": "stderr",
          "text": [
            "<ipython-input-44-55e52f88ce51>:1: LangChainDeprecationWarning: Default values for HuggingFaceEmbeddings.model_name were deprecated in LangChain 0.2.16 and will be removed in 0.4.0. Explicitly pass a model_name to the HuggingFaceEmbeddings constructor instead.\n",
            "  embedder = HuggingFaceEmbeddings()\n"
          ]
        }
      ]
    },
    {
      "cell_type": "code",
      "source": [
        "vector = FAISS.from_documents(documents, embedder)\n",
        "vector.as_retriever(search_type = \"similarity\", search_kwargs = {\"k\":3})"
      ],
      "metadata": {
        "colab": {
          "base_uri": "https://localhost:8080/"
        },
        "id": "nb7lgKakxHLX",
        "outputId": "8fee8cc6-c7a7-4a60-876c-ad31ae4e4237"
      },
      "execution_count": 45,
      "outputs": [
        {
          "output_type": "execute_result",
          "data": {
            "text/plain": [
              "VectorStoreRetriever(tags=['FAISS', 'HuggingFaceEmbeddings'], vectorstore=<langchain_community.vectorstores.faiss.FAISS object at 0x7f6439dcdb90>, search_kwargs={'k': 3})"
            ]
          },
          "metadata": {},
          "execution_count": 45
        }
      ]
    },
    {
      "cell_type": "code",
      "source": [
        "!pip install langchain-groq"
      ],
      "metadata": {
        "id": "dfbCfAUK0pH_"
      },
      "execution_count": null,
      "outputs": []
    },
    {
      "cell_type": "code",
      "source": [
        "from langchain_groq import ChatGroq\n",
        "\n",
        "\n",
        "llm = ChatGroq(\n",
        "    groq_api_key = \"Your API-Key\",\n",
        "    temperature = 0,\n",
        "    model_name = \"deepseek-r1-distill-llama-70b\"\n",
        ")"
      ],
      "metadata": {
        "id": "AuJXFAPmx3d-"
      },
      "execution_count": 47,
      "outputs": []
    },
    {
      "cell_type": "code",
      "source": [
        "llm.invoke(\"what is python\")"
      ],
      "metadata": {
        "colab": {
          "base_uri": "https://localhost:8080/"
        },
        "id": "6c-IA8Gnziqw",
        "outputId": "c7d07084-8fa0-42ff-c426-501575a7c09f"
      },
      "execution_count": 48,
      "outputs": [
        {
          "output_type": "execute_result",
          "data": {
            "text/plain": [
              "AIMessage(content='<think>\\n\\n</think>\\n\\nPython is a high-level, interpreted programming language that is widely used for various purposes such as web development, scientific computing, data analysis, artificial intelligence, and more. Created in the late 1980s by Guido van Rossum, Python is known for its simplicity, readability, and ease of use, making it a great language for beginners and experts alike.\\n\\n### Key Features of Python:\\n1. **Easy to Learn**: Python has a simple syntax with a focus on readability, often using English-like keywords and phrases.\\n2. **Interpreted Language**: Python code is executed line by line, making it easier to write and test code quickly.\\n3. **Versatile**: Python can be used for web development, scripting, data analysis, machine learning, automation, and more.\\n4. **Cross-Platform**: Python can run on multiple operating systems, including Windows, macOS, and Linux.\\n5. **Extensive Libraries**: Python has a vast collection of libraries and modules that make it easy to perform various tasks without writing everything from scratch.\\n6. **Object-Oriented**: Python supports object-oriented programming, allowing for the creation of reusable code.\\n7. **Large Community**: Python has a large and active community, which means there are plenty of resources, tutorials, and forums available.\\n\\n### Common Uses of Python:\\n- **Web Development**: Frameworks like Django and Flask are popular for building web applications.\\n- **Data Analysis and Science**: Libraries like NumPy, pandas, and matplotlib are widely used for data manipulation and visualization.\\n- **Machine Learning and AI**: TensorFlow, Keras, and scikit-learn are popular libraries for building machine learning models.\\n- **Automation**: Python is often used to automate tasks, such as file management, data entry, and system administration.\\n- **Education**: Python is frequently taught in introductory programming courses due to its simplicity.\\n\\n### Example of Python Code:\\n```python\\n# A simple \"Hello, World!\" program\\nprint(\"Hello, World!\")\\n\\n# A basic loop\\nfruits = [\"apple\", \"banana\", \"cherry\"]\\nfor fruit in fruits:\\n    print(fruit)\\n\\n# A function\\ndef greet(name):\\n    print(f\"Hello, {name}!\")\\ngreet(\"Alice\")\\n```\\n\\nIf you\\'re new to programming, Python is an excellent language to start with. Its simplicity and versatility make it a powerful tool for a wide range of applications.', additional_kwargs={}, response_metadata={'token_usage': {'completion_tokens': 492, 'prompt_tokens': 6, 'total_tokens': 498, 'completion_time': 1.789090909, 'prompt_time': 0.003498885, 'queue_time': 0.233894831, 'total_time': 1.792589794}, 'model_name': 'deepseek-r1-distill-llama-70b', 'system_fingerprint': 'fp_492bd52206', 'finish_reason': 'stop', 'logprobs': None}, id='run-98200ac7-437d-413e-983c-ef9ec3b5da4e-0', usage_metadata={'input_tokens': 6, 'output_tokens': 492, 'total_tokens': 498})"
            ]
          },
          "metadata": {},
          "execution_count": 48
        }
      ]
    },
    {
      "cell_type": "code",
      "source": [
        "from langchain.prompts import PromptTemplate"
      ],
      "metadata": {
        "id": "m4C3wPhH4ke3"
      },
      "execution_count": 49,
      "outputs": []
    },
    {
      "cell_type": "code",
      "source": [
        "# Define prompt\n",
        "\n",
        "prompt = \"\"\"\n",
        "1. use the following pieces of context to answer the question at the end.\n",
        "2. if you don't know the answer, just say that you don't know, don't try to make up an answer.\n",
        "3. Keep the answer as concise as possible.\n",
        "4. Always say \"thanks for asking!\" at the end of the answer.\n",
        "5. If the question is not related to the context, politely respond that you are tuned to only answer questions that are related to the context.\n",
        "\n",
        "Context :{context}\n",
        "Question: {question}\n",
        "Helpful Answer: \"\"\"\n",
        "\n",
        "QA_Chain_PROMPT = PromptTemplate.from_template(prompt)"
      ],
      "metadata": {
        "id": "ow1x0UI_22Q8"
      },
      "execution_count": 50,
      "outputs": []
    },
    {
      "cell_type": "code",
      "source": [
        "llm_chain = LLMChain(\n",
        "    llm = llm,\n",
        "    prompt = QA_Chain_PROMPT,\n",
        "    callbacks = None,\n",
        "    verbose = True\n",
        ")\n"
      ],
      "metadata": {
        "id": "fAFbweR_231X"
      },
      "execution_count": 51,
      "outputs": []
    },
    {
      "cell_type": "code",
      "source": [
        "document_prompt = PromptTemplate(\n",
        "    input_variables = [\"page_content\", \"source\"],\n",
        "    template = \"Context: \\ncontent: {page_content}\\n source: {source}\"\n",
        ")\n",
        ""
      ],
      "metadata": {
        "id": "BQ1SKEOY3kdK"
      },
      "execution_count": 52,
      "outputs": []
    },
    {
      "cell_type": "code",
      "source": [
        "combine_documents_chain = StuffDocumentsChain(\n",
        "    llm_chain = llm_chain,\n",
        "    document_variable_name = \"context\",\n",
        "    document_prompt = document_prompt,\n",
        "    callbacks = None\n",
        ")"
      ],
      "metadata": {
        "id": "Tj9of2395eb_"
      },
      "execution_count": 53,
      "outputs": []
    },
    {
      "cell_type": "code",
      "source": [
        "from langchain.chains import RetrievalQA"
      ],
      "metadata": {
        "id": "2VMWJed-7acz"
      },
      "execution_count": 54,
      "outputs": []
    },
    {
      "cell_type": "code",
      "source": [
        "from langchain.chains import RetrievalQA"
      ],
      "metadata": {
        "id": "Kietfh8h7fw5"
      },
      "execution_count": 55,
      "outputs": []
    },
    {
      "cell_type": "code",
      "source": [
        "# Create FAISS Vector Store\n",
        "vector_store = FAISS.from_documents(documents, embedder)\n",
        "\n",
        "# Define retriever\n",
        "retriever = vector_store.as_retriever()\n"
      ],
      "metadata": {
        "id": "Wwxnt94fArOZ"
      },
      "execution_count": 60,
      "outputs": []
    },
    {
      "cell_type": "code",
      "source": [
        "qa = RetrievalQA(combine_documents_chain=combine_documents_chain,\n",
        "                 retriever=retriever,\n",
        "                 return_source_documents=True,\n",
        "                 verbose=True)\n",
        "\n",
        ""
      ],
      "metadata": {
        "id": "37fykvp-6NkB"
      },
      "execution_count": 62,
      "outputs": []
    },
    {
      "cell_type": "code",
      "source": [
        "user_input = \"what is an array?\"\n",
        "response = qa(user_input)[\"result\"]"
      ],
      "metadata": {
        "colab": {
          "base_uri": "https://localhost:8080/"
        },
        "id": "ym7aJjXz7AwP",
        "outputId": "6f347dc6-6656-42de-ce8d-91f61562c944"
      },
      "execution_count": 63,
      "outputs": [
        {
          "output_type": "stream",
          "name": "stderr",
          "text": [
            "<ipython-input-63-bad7f01e388a>:2: LangChainDeprecationWarning: The method `Chain.__call__` was deprecated in langchain 0.1.0 and will be removed in 1.0. Use :meth:`~invoke` instead.\n",
            "  response = qa(user_input)[\"result\"]\n"
          ]
        },
        {
          "output_type": "stream",
          "name": "stdout",
          "text": [
            "\n",
            "\n",
            "\u001b[1m> Entering new RetrievalQA chain...\u001b[0m\n",
            "\n",
            "\n",
            "\u001b[1m> Entering new LLMChain chain...\u001b[0m\n",
            "Prompt after formatting:\n",
            "\u001b[32;1m\u001b[1;3m\n",
            "1. use the following pieces of context to answer the question at the end.\n",
            "2. if you don't know the answer, just say that you don't know, don't try to make up an answer.\n",
            "3. Keep the answer as concise as possible.\n",
            "4. Always say \"thanks for asking!\" at the end of the answer.\n",
            "5. If the question is not related to the context, politely respond that you are tuned to only answer questions that are related to the context.\n",
            "\n",
            "Context :Context: \n",
            "content: elements. There are several ways to create a new list; the simplest is to enclose the\n",
            "elements in square brackets ( [ and ] ). For example, here is a list of two\n",
            "integers. In [1]: numbers = [42, 123]\n",
            "And here’s a list of three strings. In [2]: cheeses = ['Cheddar', 'Edam', 'Gouda']\n",
            "The elements of a list don’t have to be the same type. The following list\n",
            "contains a string, a float, an integer, and even another list. In [3]: t = ['spam', 2.0, 5, [10, 20]]\n",
            "A list within another list is nested. A list that contains no elements is called an empty list; you can create one\n",
            "with empty brackets, [] .\n",
            " source: /content/Think python.pdf\n",
            "\n",
            "Context: \n",
            "content: Lists are represented by boxes with the word “list” outside and the\n",
            "numbered elements of the list inside. Lists are mutable\n",
            "To read an element of a list, we can use the bracket operator. The index of\n",
            "the first element is 0 .\n",
            " source: /content/Think python.pdf\n",
            "\n",
            "Context: \n",
            "content: A variable is a name that refers to a value. To create a variable, we can\n",
            "write a assignment statement like this. In [1]: n = 17\n",
            "An assignment statement has three parts: the name of the variable on the\n",
            "left, the equals operator, = , and an expression on the right. In this example,\n",
            "the expression is an integer.\n",
            " source: /content/Think python.pdf\n",
            "\n",
            "Context: \n",
            "content: In [6]: cheeses[0]\n",
            "Out[6]: 'Cheddar'\n",
            "Unlike strings, lists are mutable. When the bracket operator appears on the\n",
            "left side of an assignment, it identifies the element of the list that will be\n",
            "assigned. In [7]: numbers[1] = 17\n",
            "numbers\n",
            "Out[7]: [42, 17]\n",
            "The second element of numbers , which used to be 123 , is now 17 . List indices work the same way as string indices:\n",
            "Any integer expression can be used as an index. If you try to read or write an element that does not exist, you get an\n",
            "IndexError . If an index has a negative value, it counts backward from the end of\n",
            "the list.\n",
            " source: /content/Think python.pdf\n",
            "Question: what is an array?\n",
            "Helpful Answer: \u001b[0m\n",
            "\n",
            "\u001b[1m> Finished chain.\u001b[0m\n",
            "\n",
            "\u001b[1m> Finished chain.\u001b[0m\n"
          ]
        }
      ]
    },
    {
      "cell_type": "code",
      "source": [
        "print(response)"
      ],
      "metadata": {
        "colab": {
          "base_uri": "https://localhost:8080/"
        },
        "id": "3RIsLSAWBclf",
        "outputId": "49953d8f-2847-4a7d-a3c4-a21c3c4adc03"
      },
      "execution_count": 64,
      "outputs": [
        {
          "output_type": "stream",
          "name": "stdout",
          "text": [
            "<think>\n",
            "Okay, so I need to figure out what an array is based on the given context. Let me go through each piece of context one by one.\n",
            "\n",
            "First, the context talks about creating lists in Python using square brackets. It gives examples like numbers = [42, 123] and cheeses = ['Cheddar', 'Edam', 'Gouda']. It also mentions that lists can have mixed types, like t = ['spam', 2.0, 5, [10, 20]]. So, a list in Python is an ordered collection of elements that can be of any data type, including other lists.\n",
            "\n",
            "Another context explains that lists are mutable, meaning they can be changed after creation. It shows how to access elements using index brackets, like cheeses[0] gives 'Cheddar'. It also demonstrates how to modify elements, such as numbers[1] = 17, which changes the list from [42, 123] to [42, 17]. This mutability is a key feature of lists.\n",
            "\n",
            "The third context discusses variables and assignment. It explains that variables are names assigned to values using the equals operator. For example, n = 17 assigns the integer 17 to the variable n. This is relevant because arrays (or lists in Python) are stored in variables as well.\n",
            "\n",
            "The fourth context reiterates that lists are mutable and can have their elements accessed and modified using index brackets. It also mentions that indices can be negative to count from the end and that accessing an invalid index results in an IndexError.\n",
            "\n",
            "Putting this all together, an array in many programming languages is similar to a list in Python. Both are ordered collections of elements that can be accessed by index. They can store multiple data types and are mutable, allowing for modifications after creation. The key difference is the terminology: Python uses \"list,\" while other languages use \"array.\"\n",
            "\n",
            "So, based on the context provided, an array is essentially a list in Python, serving the same purpose with similar functionalities.\n",
            "</think>\n",
            "\n",
            "An array is a data structure that stores a collection of elements, each identified by an index. In Python, this is referred to as a list. Lists are mutable, meaning they can be modified after creation, and can contain elements of various data types, including other lists. Accessing elements is done using square brackets with indices, which can be positive or negative. Thanks for asking!\n"
          ]
        }
      ]
    },
    {
      "cell_type": "code",
      "source": [],
      "metadata": {
        "id": "hS3ATZQ_ByD2"
      },
      "execution_count": null,
      "outputs": []
    }
  ]
}